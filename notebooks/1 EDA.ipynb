{
 "cells": [
  {
   "cell_type": "markdown",
   "id": "a0435d68",
   "metadata": {},
   "source": [
    "# Exploratory Data Analysis"
   ]
  },
  {
   "cell_type": "code",
   "execution_count": 13,
   "id": "7d80abcb",
   "metadata": {},
   "outputs": [],
   "source": [
    "import pandas as pd\n",
    "raw_data = pd.read_csv(r'..\\data\\raw\\WA_Fn-UseC_-Telco-Customer-Churn.csv')"
   ]
  },
  {
   "cell_type": "markdown",
   "id": "f7ef8b9f",
   "metadata": {},
   "source": [
    "Due to white space, TotalCharges is a text field. I need to convert it to a numeric field and make the white space NA."
   ]
  },
  {
   "cell_type": "code",
   "execution_count": 26,
   "id": "601274b7",
   "metadata": {},
   "outputs": [],
   "source": [
    "raw_data['TotalCharges'] = pd.to_numeric(raw_data['TotalCharges'], errors='coerce')"
   ]
  },
  {
   "cell_type": "code",
   "execution_count": 27,
   "id": "5742f8fa",
   "metadata": {},
   "outputs": [
    {
     "name": "stderr",
     "output_type": "stream",
     "text": [
      "100%|██████████| 21/21 [00:00<00:00, 44.30it/s]0<00:00, 31.54it/s, Describe variable: Churn]           \n",
      "Summarize dataset: 100%|██████████| 39/39 [00:03<00:00, 10.75it/s, Completed]                             \n",
      "Feature: tenure                              |██▋       | [ 27%]   28:35 -> (1:16:13 left)\n",
      "Generate report structure: 100%|██████████| 1/1 [00:05<00:00,  5.14s/it]\n",
      "Render HTML: 100%|██████████| 1/1 [00:00<00:00,  3.47it/s]\n",
      "Export report to file: 100%|██████████| 1/1 [00:00<00:00, 122.77it/s]\n"
     ]
    }
   ],
   "source": [
    "from ydata_profiling import ProfileReport\n",
    "\n",
    "# Generate comprehensive EDA report\n",
    "profile = ProfileReport(raw_data, title=\"Telco Churn EDA Report\", explorative=True)\n",
    "# profile.to_notebook_iframe()\n",
    "profile.to_file(\"1 EDA_report.html\")"
   ]
  },
  {
   "cell_type": "markdown",
   "id": "ef3a25b5",
   "metadata": {},
   "source": [
    "- TotalCharges is roughly the product of MonthlyCharges and tenure, so it will be removed from model training.\n",
    "- PhoneService is redundant given MultipleLines.\n",
    "- Multiple internet services are related with correlation coefficients around 0.7."
   ]
  }
 ],
 "metadata": {
  "kernelspec": {
   "display_name": "Telco Churn (telco_churn_env)",
   "language": "python",
   "name": "telco-churn"
  },
  "language_info": {
   "codemirror_mode": {
    "name": "ipython",
    "version": 3
   },
   "file_extension": ".py",
   "mimetype": "text/x-python",
   "name": "python",
   "nbconvert_exporter": "python",
   "pygments_lexer": "ipython3",
   "version": "3.13.5"
  }
 },
 "nbformat": 4,
 "nbformat_minor": 5
}
