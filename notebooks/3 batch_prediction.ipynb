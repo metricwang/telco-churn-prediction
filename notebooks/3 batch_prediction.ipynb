{
 "cells": [
  {
   "cell_type": "code",
   "execution_count": null,
   "id": "2ad271c8",
   "metadata": {},
   "outputs": [
    {
     "data": {
      "application/vnd.jupyter.widget-view+json": {
       "model_id": "a6287e2609e944cb85b1146c792362a0",
       "version_major": 2,
       "version_minor": 0
      },
      "text/plain": [
       "Downloading artifacts:   0%|          | 0/7 [00:00<?, ?it/s]"
      ]
     },
     "metadata": {},
     "output_type": "display_data"
    },
    {
     "name": "stdout",
     "output_type": "stream",
     "text": [
      "✓ Predictions saved to ..\\data\\out\\New_Customers_Churn_Predictions.csv\n"
     ]
    }
   ],
   "source": [
    "import mlflow\n",
    "import pandas as pd\n",
    "\n",
    "def predict_churn(customer_data_path, model_name, output_path):\n",
    "    \"\"\"Score customers for churn risk\"\"\"\n",
    "    \n",
    "    # Set up MLflow\n",
    "    mlflow.set_tracking_uri(\"http://localhost:8080\")\n",
    "    # Load model\n",
    "    model = mlflow.sklearn.load_model(f\"models:/{model_name}@champion\") # type: ignore\n",
    "    \n",
    "    # Load data\n",
    "    customers = pd.read_csv(customer_data_path)\n",
    "    \n",
    "    # Predict\n",
    "    probabilities = model.predict_proba(customers)[:, 1]\n",
    "    \n",
    "    # Create output\n",
    "    results = customers.copy()\n",
    "    results['churn_probability'] = probabilities\n",
    "    results['risk_level'] = pd.cut(\n",
    "        probabilities, \n",
    "        bins=[0, 0.3, 0.7, 1.0],\n",
    "        labels=['Low', 'Medium', 'High']\n",
    "    )\n",
    "    \n",
    "    # Save\n",
    "    results.to_csv(output_path, index=False)\n",
    "    print(f\"Predictions saved to {output_path}\")\n",
    "    \n",
    "    return results\n",
    "\n",
    "# Run it\n",
    "predictions = predict_churn(\n",
    "    r'..\\data\\raw\\New_Customers.csv',\n",
    "    'Telco Churn',\n",
    "    r'..\\data\\out\\New_Customers_Churn_Predictions.csv'\n",
    ")"
   ]
  }
 ],
 "metadata": {
  "kernelspec": {
   "display_name": "Telco Churn (telco_churn_env)",
   "language": "python",
   "name": "telco-churn"
  },
  "language_info": {
   "codemirror_mode": {
    "name": "ipython",
    "version": 3
   },
   "file_extension": ".py",
   "mimetype": "text/x-python",
   "name": "python",
   "nbconvert_exporter": "python",
   "pygments_lexer": "ipython3",
   "version": "3.13.5"
  }
 },
 "nbformat": 4,
 "nbformat_minor": 5
}
